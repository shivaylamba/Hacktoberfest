{
 "cells": [
  {
   "cell_type": "markdown",
   "metadata": {},
   "source": [
    "#  Web Scraping in Python\n",
    "\n",
    "### Web Scraping on Amazon.in site\n",
    "To know more about what is web scraping? What's the need of it? How it works?\n",
    "Read the full article here: \n",
    "\n",
    "Try with your scraping on different websites. "
   ]
  },
  {
   "cell_type": "code",
   "execution_count": 2,
   "metadata": {},
   "outputs": [],
   "source": [
    "from bs4 import BeautifulSoup as soup\n",
    "from urllib.request import urlopen as uReq"
   ]
  },
  {
   "cell_type": "code",
   "execution_count": 3,
   "metadata": {},
   "outputs": [],
   "source": [
    "my_url = \"https://www.amazon.in/s?k=iphones&ref=nb_sb_noss_2\""
   ]
  },
  {
   "cell_type": "code",
   "execution_count": 4,
   "metadata": {},
   "outputs": [
    {
     "name": "stdout",
     "output_type": "stream",
     "text": [
      "16\n"
     ]
    }
   ],
   "source": [
    "uClient = uReq(my_url)\n",
    "page_html = uClient.read()\n",
    "uClient.close()\n",
    "page_soup = soup(page_html, \"html.parser\")\n",
    "\n",
    "containers = page_soup.findAll(\"div\",{\"class\":\"s-include-content-margin s-border-bottom s-latency-cf-section\"})\n",
    "print(len(containers))"
   ]
  },
  {
   "cell_type": "code",
   "execution_count": 5,
   "metadata": {},
   "outputs": [
    {
     "name": "stdout",
     "output_type": "stream",
     "text": [
      "<div class=\"s-include-content-margin s-border-bottom s-latency-cf-section\">\n",
      " <div class=\"a-section a-spacing-medium\">\n",
      "  <div class=\"sg-row\">\n",
      "   <div class=\"a-section a-spacing-micro s-min-height-small\">\n",
      "   </div>\n",
      "  </div>\n",
      "  <div class=\"sg-row\">\n",
      "   <div class=\"sg-col-4-of-24 sg-col-4-of-12 sg-col-4-of-36 sg-col-4-of-28 sg-col-4-of-16 sg-col sg-col-4-of-20 sg-col-4-of-32\">\n",
      "    <div class=\"sg-col-inner\">\n",
      "     <div class=\"a-section a-spacing-none\">\n",
      "      <span class=\"rush-component\" data-component-type=\"s-product-image\">\n",
      "       <a class=\"a-link-normal\" href=\"/Apple-iPhone-11-64GB-Black/dp/B07XVMDRZY?dchild=1\" target=\"_blank\">\n",
      "        <div class=\"a-section aok-relative s-image-fixed-height\">\n",
      "         <img alt=\"Apple iPhone 11 (64GB) - Black\" class=\"s-image\" data-image-index=\"0\" data-image-latency=\"s-product-image\" data-image-load=\"\" data-image-source-density=\"1\" onload=\"window.uet &amp;&amp; uet('cf')\" src=\"https://m.media-amazon.com/images/I/51kGDXeFZKL._AC_UY218_.jpg\" srcset=\"https://m.media-amazon.com/images/I/51kGDXeFZKL._AC_UY218_.jpg 1x, https://m.media-amazon.com/images/I/51kGDXeFZKL._AC_UY327_QL65_.jpg 1.5x, https://m.media-amazon.com/images/I/51kGDXeFZKL._AC_UY436_QL65_.jpg 2x, https://m.media-amazon.com/images/I/51kGDXeFZKL._AC_UY545_QL65_.jpg 2.5x, https://m.media-amazon.com/images/I/51kGDXeFZKL._AC_UY654_QL65_.jpg 3x\">\n",
      "         </img>\n",
      "        </div>\n",
      "       </a>\n",
      "      </span>\n",
      "     </div>\n",
      "    </div>\n",
      "   </div>\n",
      "   <div class=\"sg-col-4-of-12 sg-col-8-of-16 sg-col-16-of-24 sg-col-12-of-20 sg-col-24-of-32 sg-col sg-col-28-of-36 sg-col-20-of-28\">\n",
      "    <div class=\"sg-col-inner\">\n",
      "     <div class=\"sg-row\">\n",
      "      <div class=\"sg-col-4-of-12 sg-col-8-of-16 sg-col-12-of-32 sg-col-12-of-20 sg-col-12-of-36 sg-col sg-col-12-of-24 sg-col-12-of-28\">\n",
      "       <div class=\"sg-col-inner\">\n",
      "        <div class=\"a-section a-spacing-none\">\n",
      "         <h2 class=\"a-size-mini a-spacing-none a-color-base s-line-clamp-2\">\n",
      "          <a class=\"a-link-normal a-text-normal\" href=\"/Apple-iPhone-11-64GB-Black/dp/B07XVMDRZY?dchild=1\" target=\"_blank\">\n",
      "           <span class=\"a-size-medium a-color-base a-text-normal\" dir=\"auto\">\n",
      "            Apple iPhone 11 (64GB) - Black\n",
      "           </span>\n",
      "          </a>\n",
      "         </h2>\n",
      "        </div>\n",
      "        <div class=\"a-section a-spacing-none a-spacing-top-micro\">\n",
      "         <div class=\"a-row a-size-small\">\n",
      "          <span aria-label=\"4.6 out of 5 stars\">\n",
      "           <span class=\"a-declarative\" data-a-popover='{\"max-width\":\"700\",\"closeButton\":false,\"position\":\"triggerBottom\",\"url\":\"/review/widgets/average-customer-review/popover/ref=acr_search__popover?ie=UTF8&amp;asin=B07XVMDRZY&amp;ref=acr_search__popover&amp;contextId=search\"}' data-action=\"a-popover\">\n",
      "            <a class=\"a-popover-trigger a-declarative\" href=\"javascript:void(0)\">\n",
      "             <i class=\"a-icon a-icon-star-small a-star-small-4-5 aok-align-bottom\">\n",
      "              <span class=\"a-icon-alt\">\n",
      "               4.6 out of 5 stars\n",
      "              </span>\n",
      "             </i>\n",
      "             <i class=\"a-icon a-icon-popover\">\n",
      "             </i>\n",
      "            </a>\n",
      "           </span>\n",
      "          </span>\n",
      "          <span aria-label=\"3,420\">\n",
      "           <a class=\"a-link-normal\" href=\"/Apple-iPhone-11-64GB-Black/dp/B07XVMDRZY?dchild=1#customerReviews\" target=\"_blank\">\n",
      "            <span class=\"a-size-base\" dir=\"auto\">\n",
      "             3,420\n",
      "            </span>\n",
      "           </a>\n",
      "          </span>\n",
      "         </div>\n",
      "        </div>\n",
      "       </div>\n",
      "      </div>\n",
      "     </div>\n",
      "     <div class=\"sg-row\">\n",
      "      <div class=\"sg-col-4-of-24 sg-col-4-of-12 sg-col-4-of-36 sg-col-4-of-28 sg-col-4-of-16 sg-col sg-col-4-of-20 sg-col-4-of-32\">\n",
      "       <div class=\"sg-col-inner\">\n",
      "        <div class=\"a-section a-spacing-none a-spacing-top-small\">\n",
      "         <div class=\"a-row a-size-base a-color-base\">\n",
      "          <div class=\"a-row\">\n",
      "           <a class=\"a-size-base a-link-normal s-no-hover a-text-normal\" href=\"/Apple-iPhone-11-64GB-Black/dp/B07XVMDRZY?dchild=1\" target=\"_blank\">\n",
      "            <span class=\"a-price\" data-a-color=\"price\" data-a-size=\"l\">\n",
      "             <span class=\"a-offscreen\">\n",
      "              ₹68,300\n",
      "             </span>\n",
      "             <span aria-hidden=\"true\">\n",
      "              <span class=\"a-price-symbol\">\n",
      "               ₹\n",
      "              </span>\n",
      "              <span class=\"a-price-whole\">\n",
      "               68,300\n",
      "              </span>\n",
      "             </span>\n",
      "            </span>\n",
      "           </a>\n",
      "           <span class=\"a-letter-space\">\n",
      "           </span>\n",
      "          </div>\n",
      "         </div>\n",
      "         <div class=\"a-row a-size-base a-color-secondary\">\n",
      "          <div class=\"a-row\">\n",
      "           <span class=\"a-color-secondary\">\n",
      "            <span class=\"a-truncate\" data-a-max-rows=\"1\" data-a-overflow-marker=\"&amp;hellip;\" data-a-word-break=\"normal\" style=\"line-height: 1.3em !important; max-height: 1.3em;\">\n",
      "             <span class=\"a-truncate-full\">\n",
      "              Up to INR 5000 off on HDFC Bank cards.\n",
      "             </span>\n",
      "             <span aria-hidden=\"true\" class=\"a-truncate-cut a-hidden\">\n",
      "             </span>\n",
      "            </span>\n",
      "           </span>\n",
      "          </div>\n",
      "         </div>\n",
      "        </div>\n",
      "        <div class=\"a-section a-spacing-none a-spacing-top-micro\">\n",
      "         <div class=\"a-row a-size-base a-color-secondary s-align-children-center\">\n",
      "          <div class=\"a-row s-align-children-center\">\n",
      "           <span class=\"aok-inline-block s-image-logo-view\">\n",
      "            <span class=\"aok-relative s-icon-text-medium s-prime\">\n",
      "             <i aria-label=\"Amazon Prime\" class=\"a-icon a-icon-prime a-icon-medium\" role=\"img\">\n",
      "             </i>\n",
      "            </span>\n",
      "            <span>\n",
      "            </span>\n",
      "           </span>\n",
      "           <span aria-label=\"Get it by Wednesday, July 15\">\n",
      "            <span dir=\"auto\">\n",
      "             Get it by\n",
      "            </span>\n",
      "            <span class=\"a-text-bold\" dir=\"auto\">\n",
      "             Wednesday, July 15\n",
      "            </span>\n",
      "           </span>\n",
      "          </div>\n",
      "          <div class=\"a-row\">\n",
      "           <span aria-label=\"FREE Delivery by Amazon\">\n",
      "            <span dir=\"auto\">\n",
      "             FREE Delivery by Amazon\n",
      "            </span>\n",
      "           </span>\n",
      "          </div>\n",
      "         </div>\n",
      "        </div>\n",
      "       </div>\n",
      "      </div>\n",
      "      <div class=\"sg-col-4-of-12 sg-col-8-of-28 sg-col-4-of-16 sg-col-8-of-32 sg-col sg-col-8-of-20 sg-col-8-of-36 sg-col-8-of-24\">\n",
      "       <div class=\"sg-col-inner\">\n",
      "       </div>\n",
      "      </div>\n",
      "     </div>\n",
      "     <div class=\"sg-row\">\n",
      "      <div class=\"sg-col-20-of-24 sg-col-28-of-32 sg-col-16-of-20 sg-col sg-col-32-of-36 sg-col-8-of-12 sg-col-12-of-16 sg-col-24-of-28\">\n",
      "       <div class=\"sg-col-inner\">\n",
      "       </div>\n",
      "      </div>\n",
      "     </div>\n",
      "     <div class=\"sg-row\">\n",
      "      <div class=\"sg-col-20-of-24 sg-col-28-of-32 sg-col-16-of-20 sg-col sg-col-32-of-36 sg-col-8-of-12 sg-col-12-of-16 sg-col-24-of-28\">\n",
      "       <div class=\"sg-col-inner\">\n",
      "       </div>\n",
      "      </div>\n",
      "     </div>\n",
      "    </div>\n",
      "   </div>\n",
      "  </div>\n",
      " </div>\n",
      "</div>\n",
      "\n"
     ]
    }
   ],
   "source": [
    "print(soup.prettify(containers[0]))\n",
    "\n",
    "#container = containers[0]"
   ]
  },
  {
   "cell_type": "code",
   "execution_count": 6,
   "metadata": {},
   "outputs": [
    {
     "name": "stdout",
     "output_type": "stream",
     "text": [
      "Apple iPhone 11 (64GB) - Black\n"
     ]
    }
   ],
   "source": [
    "container = containers[0]\n",
    "print(container.div.img['alt'])"
   ]
  },
  {
   "cell_type": "code",
   "execution_count": 7,
   "metadata": {},
   "outputs": [
    {
     "name": "stdout",
     "output_type": "stream",
     "text": [
      "4.6 out of 5 stars\n"
     ]
    }
   ],
   "source": [
    "rating = container.findAll(\"span\", {\"class\":\"a-icon-alt\"})\n",
    "print(rating[0].text)"
   ]
  },
  {
   "cell_type": "code",
   "execution_count": 8,
   "metadata": {},
   "outputs": [
    {
     "name": "stdout",
     "output_type": "stream",
     "text": [
      "₹68,300\n"
     ]
    }
   ],
   "source": [
    "price = container.findAll(\"span\", {\"class\":\"a-offscreen\"})\n",
    "print(price[0].text)"
   ]
  },
  {
   "cell_type": "code",
   "execution_count": 7,
   "metadata": {},
   "outputs": [
    {
     "name": "stdout",
     "output_type": "stream",
     "text": [
      "Apple iPhone 11 (64GB) - Black,₹68300,4.6\n",
      "\n",
      "Apple iPhone 11 Pro Max (256GB) - Midnight Green,₹131900,4.5\n",
      "\n",
      "Apple iPhone 11 (64GB) - White,₹68300,4.6\n",
      "\n",
      "Apple iPhone XR (128GB) - Black,₹57800,4.5\n",
      "\n",
      "Apple iPhone XR (64GB) - Blue,₹49900,4.5\n",
      "\n",
      "Apple iPhone 11 (128GB) - White,₹73600,4.6\n",
      "\n",
      "OnePlus 7T (Glacier Blue| 8GB RAM| Fluid AMOLED Display| 256GB Storage| 3800mAH Battery),₹37999,4.5\n",
      "\n",
      "Apple iPhone 11 Pro Max (256GB) - Gold,₹131900,4.5\n",
      "\n",
      "Apple iPhone 8 Plus (64GB) - Space Grey,₹49500,4.5\n",
      "\n",
      "Redmi Note 8 (Space Black| 4GB RAM| 64GB Storage),₹11999,4.3\n",
      "\n",
      "Apple iPhone 7 (32GB) - Gold,₹31500,4.2\n",
      "\n",
      "Apple iPhone Xs Max (64GB) - Gold,₹69900,4.3\n",
      "\n",
      "Apple iPhone 11 Pro (256GB) - Midnight Green,₹121300,4.5\n",
      "\n",
      "Apple iPhone 11 Pro Max (64GB) - Midnight Green,₹117100,4.5\n",
      "\n",
      "Apple iPhone 11 (128GB) - Purple,₹73600,4.6\n",
      "\n",
      "Apple iPhone 11 Pro (256GB) - Space Grey,₹121300,4.5\n",
      "\n"
     ]
    }
   ],
   "source": [
    "#Store in .CSV file\n",
    "file = \"amazon_product.csv\"\n",
    "f = open(file,\"w\",encoding='utf-8')\n",
    "\n",
    "headers = \"Product_name,Product_price,Product_rating\\n\"\n",
    "f.write(headers)\n",
    "\n",
    "for container in containers:\n",
    "    p_name = container.div.img['alt']\n",
    "    \n",
    "    rating = container.findAll(\"span\", {\"class\":\"a-icon-alt\"})\n",
    "    p_rating = rating[0].text.strip()\n",
    "    p_rating = p_rating.split(' ')[0]\n",
    "    \n",
    "    \n",
    "    price = container.findAll(\"span\", {\"class\":\"a-offscreen\"})\n",
    "    p_price = price[0].text\n",
    "    \n",
    "    p_price = ''.join(p_price.split(','))\n",
    "    \n",
    "    #print(\"Name: \",p_name)\n",
    "    #print(\"Price:\",p_price)\n",
    "    #print(\"Rating:\",p_rating)\n",
    "\n",
    "    print(p_name.replace(\",\",\"|\") + \",\" + p_price + \",\" + p_rating + \"\\n\")\n",
    "    f.write(p_name.replace(\",\",\"|\") + \",\" + p_price + \",\" + p_rating + \"\\n\")\n",
    "    \n",
    "f.close()"
   ]
  },
  {
   "cell_type": "code",
   "execution_count": null,
   "metadata": {},
   "outputs": [],
   "source": []
  }
 ],
 "metadata": {
  "kernelspec": {
   "display_name": "Python 3",
   "language": "python",
   "name": "python3"
  },
  "language_info": {
   "codemirror_mode": {
    "name": "ipython",
    "version": 3
   },
   "file_extension": ".py",
   "mimetype": "text/x-python",
   "name": "python",
   "nbconvert_exporter": "python",
   "pygments_lexer": "ipython3",
   "version": "3.7.3"
  }
 },
 "nbformat": 4,
 "nbformat_minor": 2
}
