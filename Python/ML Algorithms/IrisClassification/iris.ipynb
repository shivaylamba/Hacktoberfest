{
  "nbformat": 4,
  "nbformat_minor": 0,
  "metadata": {
    "colab": {
      "provenance": []
    },
    "kernelspec": {
      "name": "python3",
      "display_name": "Python 3"
    },
    "language_info": {
      "name": "python"
    }
  },
  "cells": [
    {
      "cell_type": "markdown",
      "source": [
        "# Iris Classification using tensorflow and keras"
      ],
      "metadata": {
        "id": "XzZ7IdesOsGK"
      }
    },
    {
      "cell_type": "markdown",
      "source": [
        "### Importing modules"
      ],
      "metadata": {
        "id": "Lc059WfNO0-s"
      }
    },
    {
      "cell_type": "code",
      "execution_count": null,
      "metadata": {
        "id": "rlxMgVbvDsUs"
      },
      "outputs": [],
      "source": [
        "import tensorflow as tf\n",
        "import numpy as np\n",
        "import pandas as pd\n",
        "import matplotlib.pyplot as plt"
      ]
    },
    {
      "cell_type": "markdown",
      "source": [
        "### Loading Data"
      ],
      "metadata": {
        "id": "AWNT8qs_O9Q1"
      }
    },
    {
      "cell_type": "code",
      "source": [
        "CSV_COLUMN_NAMES = ['SepalLength','SepalWidth','PetalLength','PetalWidth','Species']\n",
        "SPECIES = ['Setosa','Versicolor','Virginica']"
      ],
      "metadata": {
        "id": "98zdxJDlUE_n"
      },
      "execution_count": null,
      "outputs": []
    },
    {
      "cell_type": "code",
      "source": [
        "dftrain = pd.read_csv('iris_training.csv', names=CSV_COLUMN_NAMES, header=0)\n",
        "dftest = pd.read_csv('iris_test.csv', names=CSV_COLUMN_NAMES, header=0)\n",
        "\n",
        "y_train = dftrain.pop('Species') #Removing label from the features\n",
        "y_test = dftest.pop('Species') #Removing label from the features\n",
        "\n",
        "print(dftrain.head())\n",
        "print('--------------------------------')\n",
        "print(y_train.head())"
      ],
      "metadata": {
        "colab": {
          "base_uri": "https://localhost:8080/"
        },
        "id": "uEztCUm3EcFa",
        "outputId": "7148bfe9-5a05-4596-d4d6-30bb8837b262"
      },
      "execution_count": null,
      "outputs": [
        {
          "output_type": "stream",
          "name": "stdout",
          "text": [
            "   SepalLength  SepalWidth  PetalLength  PetalWidth\n",
            "0          6.4         2.8          5.6         2.2\n",
            "1          5.0         2.3          3.3         1.0\n",
            "2          4.9         2.5          4.5         1.7\n",
            "3          4.9         3.1          1.5         0.1\n",
            "4          5.7         3.8          1.7         0.3\n",
            "--------------------------------\n",
            "0    2\n",
            "1    1\n",
            "2    2\n",
            "3    0\n",
            "4    0\n",
            "Name: Species, dtype: int64\n"
          ]
        }
      ]
    },
    {
      "cell_type": "code",
      "source": [
        "dftrain.shape"
      ],
      "metadata": {
        "colab": {
          "base_uri": "https://localhost:8080/"
        },
        "id": "WvCFlDY2Fi9l",
        "outputId": "a5eeed9b-4595-45b5-9add-113f7df0a804"
      },
      "execution_count": null,
      "outputs": [
        {
          "output_type": "execute_result",
          "data": {
            "text/plain": [
              "(120, 4)"
            ]
          },
          "metadata": {},
          "execution_count": 4
        }
      ]
    },
    {
      "cell_type": "markdown",
      "source": [
        "### Building the Model"
      ],
      "metadata": {
        "id": "bBL4nIgLPCHP"
      }
    },
    {
      "cell_type": "code",
      "source": [
        "model = tf.keras.Sequential([\n",
        "    tf.keras.layers.Flatten(input_shape=(4,)),\n",
        "    tf.keras.layers.Dense(10,activation='linear'),\n",
        "    tf.keras.layers.Dense(3,activation='softmax')\n",
        "])"
      ],
      "metadata": {
        "id": "3GC4dA6DFGF8"
      },
      "execution_count": null,
      "outputs": []
    },
    {
      "cell_type": "code",
      "source": [
        "model.compile(optimizer='adam',loss='sparse_categorical_crossentropy',metrics=['acc'])"
      ],
      "metadata": {
        "id": "pd0eDMBXGooE"
      },
      "execution_count": null,
      "outputs": []
    },
    {
      "cell_type": "markdown",
      "source": [
        "### Training the model"
      ],
      "metadata": {
        "id": "lo5GfqgFPGTm"
      }
    },
    {
      "cell_type": "code",
      "source": [
        "model.fit(dftrain,y_train,epochs=20,batch_size=1,shuffle=True,validation_split=0.2,verbose=1)"
      ],
      "metadata": {
        "colab": {
          "base_uri": "https://localhost:8080/"
        },
        "id": "cmJC_ab-GJZj",
        "outputId": "21cad44f-3eaf-47f5-da33-5f9cbe6a5273"
      },
      "execution_count": null,
      "outputs": [
        {
          "output_type": "stream",
          "name": "stdout",
          "text": [
            "Epoch 1/20\n",
            "96/96 [==============================] - 1s 6ms/step - loss: 3.8385 - acc: 0.3333 - val_loss: 1.0700 - val_acc: 0.8750\n",
            "Epoch 2/20\n",
            "96/96 [==============================] - 0s 3ms/step - loss: 1.3418 - acc: 0.4375 - val_loss: 0.9665 - val_acc: 0.4167\n",
            "Epoch 3/20\n",
            "96/96 [==============================] - 0s 4ms/step - loss: 0.9175 - acc: 0.4479 - val_loss: 0.9058 - val_acc: 0.6667\n",
            "Epoch 4/20\n",
            "96/96 [==============================] - 0s 4ms/step - loss: 0.7944 - acc: 0.6875 - val_loss: 0.7536 - val_acc: 0.6667\n",
            "Epoch 5/20\n",
            "96/96 [==============================] - 0s 4ms/step - loss: 0.7110 - acc: 0.7083 - val_loss: 0.6223 - val_acc: 0.6250\n",
            "Epoch 6/20\n",
            "96/96 [==============================] - 0s 3ms/step - loss: 0.6501 - acc: 0.6146 - val_loss: 0.6154 - val_acc: 0.6667\n",
            "Epoch 7/20\n",
            "96/96 [==============================] - 0s 3ms/step - loss: 0.6026 - acc: 0.7083 - val_loss: 0.5638 - val_acc: 0.6667\n",
            "Epoch 8/20\n",
            "96/96 [==============================] - 0s 3ms/step - loss: 0.5805 - acc: 0.7083 - val_loss: 0.4790 - val_acc: 0.6667\n",
            "Epoch 9/20\n",
            "96/96 [==============================] - 0s 3ms/step - loss: 0.5445 - acc: 0.7083 - val_loss: 0.4635 - val_acc: 0.6667\n",
            "Epoch 10/20\n",
            "96/96 [==============================] - 0s 2ms/step - loss: 0.5272 - acc: 0.7292 - val_loss: 0.4447 - val_acc: 0.6667\n",
            "Epoch 11/20\n",
            "96/96 [==============================] - 0s 2ms/step - loss: 0.5004 - acc: 0.7292 - val_loss: 0.4160 - val_acc: 0.6667\n",
            "Epoch 12/20\n",
            "96/96 [==============================] - 0s 2ms/step - loss: 0.4748 - acc: 0.7500 - val_loss: 0.4147 - val_acc: 0.6667\n",
            "Epoch 13/20\n",
            "96/96 [==============================] - 0s 2ms/step - loss: 0.4489 - acc: 0.7708 - val_loss: 0.4125 - val_acc: 0.6667\n",
            "Epoch 14/20\n",
            "96/96 [==============================] - 0s 2ms/step - loss: 0.4313 - acc: 0.7917 - val_loss: 0.3363 - val_acc: 0.9167\n",
            "Epoch 15/20\n",
            "96/96 [==============================] - 0s 2ms/step - loss: 0.4190 - acc: 0.8125 - val_loss: 0.3221 - val_acc: 0.9167\n",
            "Epoch 16/20\n",
            "96/96 [==============================] - 0s 2ms/step - loss: 0.4076 - acc: 0.8854 - val_loss: 0.3667 - val_acc: 0.7083\n",
            "Epoch 17/20\n",
            "96/96 [==============================] - 0s 2ms/step - loss: 0.3929 - acc: 0.8438 - val_loss: 0.3083 - val_acc: 0.9167\n",
            "Epoch 18/20\n",
            "96/96 [==============================] - 0s 2ms/step - loss: 0.3725 - acc: 0.8438 - val_loss: 0.2702 - val_acc: 0.9583\n",
            "Epoch 19/20\n",
            "96/96 [==============================] - 0s 2ms/step - loss: 0.3645 - acc: 0.8646 - val_loss: 0.2612 - val_acc: 0.9583\n",
            "Epoch 20/20\n",
            "96/96 [==============================] - 0s 2ms/step - loss: 0.3475 - acc: 0.8854 - val_loss: 0.2537 - val_acc: 0.9583\n"
          ]
        },
        {
          "output_type": "execute_result",
          "data": {
            "text/plain": [
              "<keras.callbacks.History at 0x7f3b24df2500>"
            ]
          },
          "metadata": {},
          "execution_count": 7
        }
      ]
    },
    {
      "cell_type": "markdown",
      "source": [
        "### Testing the model"
      ],
      "metadata": {
        "id": "lwGsWUNJPJ47"
      }
    },
    {
      "cell_type": "code",
      "source": [
        "result = model.evaluate(dftest,y_test)\n",
        "print(result)"
      ],
      "metadata": {
        "colab": {
          "base_uri": "https://localhost:8080/"
        },
        "id": "058iM7d6Q9WD",
        "outputId": "30aa8097-465e-49f3-dc61-c25443928c7f"
      },
      "execution_count": null,
      "outputs": [
        {
          "output_type": "stream",
          "name": "stdout",
          "text": [
            "1/1 [==============================] - 0s 207ms/step - loss: 0.3632 - acc: 0.9667\n",
            "[0.36316055059432983, 0.9666666388511658]\n"
          ]
        }
      ]
    },
    {
      "cell_type": "markdown",
      "source": [
        "### Making Predictions"
      ],
      "metadata": {
        "id": "fT89amC5PNAV"
      }
    },
    {
      "cell_type": "code",
      "source": [
        "predictions = model.predict(x=[[6.3,3.3,6.0,2.5]])\n",
        "print(SPECIES[np.argmax(predictions)], np.max(predictions))"
      ],
      "metadata": {
        "colab": {
          "base_uri": "https://localhost:8080/"
        },
        "id": "QL9PCLfDRTOZ",
        "outputId": "01cf2e11-d620-4c91-ee36-b0095195d810"
      },
      "execution_count": null,
      "outputs": [
        {
          "output_type": "stream",
          "name": "stdout",
          "text": [
            "1/1 [==============================] - 0s 110ms/step\n",
            "Virginica 0.820964\n"
          ]
        }
      ]
    }
  ]
}