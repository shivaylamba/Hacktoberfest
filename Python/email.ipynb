{
 "cells": [
  {
   "cell_type": "markdown",
   "id": "_hiE4lAC3Emg",
   "metadata": {
    "id": "_hiE4lAC3Emg"
   },
   "source": []
  },
  {
   "cell_type": "code",
   "execution_count": null,
   "id": "7dadc998",
   "metadata": {
    "id": "7dadc998"
   },
   "outputs": [],
   "source": [
    "import pandas as pd\n",
    "import numpy as np\n",
    "import smtplib"
   ]
  },
  {
   "cell_type": "code",
   "execution_count": null,
   "id": "-shHIPYCunhr",
   "metadata": {
    "colab": {
     "base_uri": "https://localhost:8080/",
     "height": 36
    },
    "id": "-shHIPYCunhr",
    "outputId": "645b1ff0-e291-4871-cef7-1e97899daef4"
   },
   "outputs": [],
   "source": [
    "pwd"
   ]
  },
  {
   "cell_type": "code",
   "execution_count": null,
   "id": "knJ3q2ySvae9",
   "metadata": {
    "colab": {
     "base_uri": "https://localhost:8080/"
    },
    "id": "knJ3q2ySvae9",
    "outputId": "a1af902c-2314-49e9-b523-2101eea68373"
   },
   "outputs": [],
   "source": [
    "# mount Google Drive\n",
    "from google.colab import drive\n",
    "drive.mount('/content/gdrive')"
   ]
  },
  {
   "cell_type": "code",
   "execution_count": null,
   "id": "0Jk5Wv-Ewe9C",
   "metadata": {
    "colab": {
     "base_uri": "https://localhost:8080/"
    },
    "id": "0Jk5Wv-Ewe9C",
    "outputId": "3a24bfb8-adac-44b5-f853-81943e51a9a7"
   },
   "outputs": [],
   "source": [
    "cd /content/gdrive/MyDrive/Colab Notebooks/email"
   ]
  },
  {
   "cell_type": "code",
   "execution_count": null,
   "id": "h_2DzwwkwsiE",
   "metadata": {
    "colab": {
     "base_uri": "https://localhost:8080/",
     "height": 36
    },
    "id": "h_2DzwwkwsiE",
    "outputId": "effbb588-9d34-4ce8-8377-5fc069978756"
   },
   "outputs": [],
   "source": [
    "pwd"
   ]
  },
  {
   "cell_type": "code",
   "execution_count": null,
   "id": "d82adf2f",
   "metadata": {
    "colab": {
     "base_uri": "https://localhost:8080/",
     "height": 424
    },
    "id": "d82adf2f",
    "outputId": "474d0462-7d9c-4270-de00-62a3aedca5b1"
   },
   "outputs": [],
   "source": [
    "# Read Your CSV File\n",
    "df =pd.read_csv(\"GDSC x DCD (Shortlist Candidates).csv\")\n",
    "df"
   ]
  },
  {
   "cell_type": "code",
   "execution_count": null,
   "id": "19f3c229",
   "metadata": {
    "colab": {
     "base_uri": "https://localhost:8080/"
    },
    "id": "19f3c229",
    "outputId": "57c0504b-9a63-4045-e659-ce82e9e77b39"
   },
   "outputs": [],
   "source": [
    "# Store the Full Name Coloums Data in the form of Series in names\n",
    "names = df[\"Name\"]\n",
    "names"
   ]
  },
  {
   "cell_type": "code",
   "execution_count": null,
   "id": "b0d48d91",
   "metadata": {
    "colab": {
     "base_uri": "https://localhost:8080/"
    },
    "id": "b0d48d91",
    "outputId": "5cdc3438-b9e3-48a4-c845-c38cbd5897f8"
   },
   "outputs": [],
   "source": [
    "# Store the Email Coloums Data in the form of Series in Emails\n",
    "emails= df['Email']\n",
    "emails"
   ]
  },
  {
   "cell_type": "code",
   "execution_count": null,
   "id": "5d6669fd",
   "metadata": {
    "colab": {
     "base_uri": "https://localhost:8080/"
    },
    "id": "5d6669fd",
    "outputId": "c187946c-60bc-436b-e3be-ff582086c73f"
   },
   "outputs": [],
   "source": [
    "server = smtplib.SMTP(\"smtp.gmail.com\", 587)\n",
    "server.starttls()\n",
    "# Setting the Login Access\n",
    "server.login(\"email\", \"appcode\")\n",
    "\n",
    "# Email Generation\n",
    "for email in emails:\n",
    "    \n",
    "    # Subject of the Email\n",
    "    subject = \"Datacamp X GDSC COMSATS Attock\"\n",
    "    \n",
    "    # Body of the Email\n",
    "    body = f'Hello Learner,'+ \"\"\"\n",
    "\n",
    "We are thrilled to inform you that you have been selected for the Datacamp yearly premium Licence where you will get $300 USD per person valued memberships along with Professional access to guided and unguided\n",
    "Projects and Competitions with cash prizes and merchandise.\n",
    "\n",
    "Congratulations & Happy Learning!\n",
    "\n",
    "Regards\n",
    "Muhammad Kaleem Ullah\n",
    "GDSC Comsats Attock, Lead\n",
    "03033925720\n",
    "\n",
    "\"\"\"  \n",
    "   \n",
    "    \n",
    "    msg = f'Subject: {subject}\\n\\n{body}'\n",
    "    \n",
    "    server.sendmail(\"Your_Email\", email, msg)\n",
    "    print(\"Email Sent To: \", email)\n"
   ]
  },
  {
   "cell_type": "code",
   "execution_count": null,
   "id": "1p-6rdU4xPe2",
   "metadata": {
    "id": "1p-6rdU4xPe2"
   },
   "outputs": [],
   "source": []
  }
 ],
 "metadata": {
  "colab": {
   "collapsed_sections": [],
   "provenance": []
  },
  "kernelspec": {
   "display_name": "Python 3 (ipykernel)",
   "language": "python",
   "name": "python3"
  },
  "language_info": {
   "codemirror_mode": {
    "name": "ipython",
    "version": 3
   },
   "file_extension": ".py",
   "mimetype": "text/x-python",
   "name": "python",
   "nbconvert_exporter": "python",
   "pygments_lexer": "ipython3",
   "version": "3.10.6"
  },
  "toc": {
   "base_numbering": 1,
   "nav_menu": {},
   "number_sections": true,
   "sideBar": true,
   "skip_h1_title": false,
   "title_cell": "Table of Contents",
   "title_sidebar": "Contents",
   "toc_cell": false,
   "toc_position": {},
   "toc_section_display": true,
   "toc_window_display": false
  }
 },
 "nbformat": 4,
 "nbformat_minor": 5
}
